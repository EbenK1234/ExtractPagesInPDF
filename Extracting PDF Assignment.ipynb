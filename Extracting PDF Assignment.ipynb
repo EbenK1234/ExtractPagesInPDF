{
 "cells": [
  {
   "cell_type": "code",
   "execution_count": 12,
   "id": "2c219014",
   "metadata": {},
   "outputs": [],
   "source": [
    "import PyPDF2"
   ]
  },
  {
   "cell_type": "code",
   "execution_count": 24,
   "id": "99ee810d",
   "metadata": {},
   "outputs": [],
   "source": [
    "from PyPDF2 import PdfFileReader\n",
    "import os \n",
    "os.chdir(r'E:\\DigiCap')"
   ]
  },
  {
   "cell_type": "code",
   "execution_count": 57,
   "id": "3ed31f09",
   "metadata": {},
   "outputs": [
    {
     "data": {
      "text/plain": [
       "<_io.BufferedReader name='Page_Extraction.pdf'>"
      ]
     },
     "execution_count": 57,
     "metadata": {},
     "output_type": "execute_result"
    }
   ],
   "source": [
    "pdf_file=open('Page_Extraction.pdf', 'rb')\n",
    "pdf_file"
   ]
  },
  {
   "cell_type": "code",
   "execution_count": 58,
   "id": "76ff13d2",
   "metadata": {},
   "outputs": [
    {
     "data": {
      "text/plain": [
       "<PyPDF2.pdf.PdfFileReader at 0x14f523917f0>"
      ]
     },
     "execution_count": 58,
     "metadata": {},
     "output_type": "execute_result"
    }
   ],
   "source": [
    "read_pdf=PyPDF2.PdfFileReader(pdf_file)\n",
    "read_pdf"
   ]
  },
  {
   "cell_type": "code",
   "execution_count": 44,
   "id": "c9a56cb0",
   "metadata": {},
   "outputs": [
    {
     "data": {
      "text/plain": [
       "687"
      ]
     },
     "execution_count": 44,
     "metadata": {},
     "output_type": "execute_result"
    }
   ],
   "source": [
    "numOfPages=read_pdf.getNumPages()\n",
    "numOfPages"
   ]
  },
  {
   "cell_type": "code",
   "execution_count": 60,
   "id": "5c390de4",
   "metadata": {},
   "outputs": [
    {
     "data": {
      "text/plain": [
       "'DEMANDCURVESANDPRICEELASTICITY\\nTherelationshipbetweenaparticulardemandcurveandthepriceelasticityit\\nexhibitsisrelativelycomplicated.Althoughitiscommontotalkabout\\nthepriceelasticityofdemandforagood,thisusageconveysthefalseimpressionthatprice\\nelasticitynecessarilyhasthesamevalueateverypointonamarketdemandcurve.A\\nmoreaccuratewayofspeakingistosaythat‚‚atcurrentprices,thepriceelasticityof\\ndemandis–™™and,thereby,leaveopenthepossibilitythattheelasticitymaytakeon\\n\\nsomeothervalueatadifferentpointonthedemandcurve.Insomecases,this\\ndistinctionmaybeunimportantbecausethepriceelasticityofdemandhasthesame\\nvalueoverarelativelybroadrangeofademandcurve.Inothercases,thedistinction\\n\\nmaybeimportant,especiallywhenlargemovementsalongademandcurveare\\nbeingconsidered.\\nLinearDemandCurvesandPriceElasticity:\\nANumericalExample\\nProbablythemostimportantillustrationofthiswarningaboutelasticitiesoccursin\\nthecaseofalinear(straight-line)demandcurve.Asonemovesalongsuchademand\\ncurve,thepriceelasticityofdemandisalwayschangingvalue.Athighpricelevels,\\n\\ndemandiselastic;thatis,afallinpriceincreasesquantitypurchasedmorethan\\nFIGURE3.13\\nRelationshipbetweenPriceElasticityand\\nTotalRevenue\\nQuantityper perioda. Inelastic demandb. Elastic demandP0P1PriceQ1Q0Quantity\\nper periodP0P1DDPriceQ1Q0Inbothpanels,pricerisesfrom\\nP0toP1.Inpanela,totalspendingincreasesbecause\\ndemandisinelastic.Inpanelb,totalspendingdecreasesbecausedemandiselastic.\\n124PARTTWO\\nDemand\\n'"
      ]
     },
     "execution_count": 60,
     "metadata": {},
     "output_type": "execute_result"
    }
   ],
   "source": [
    "page158= read_pdf.getPage(157)\n",
    "page158.extractText()"
   ]
  },
  {
   "cell_type": "code",
   "execution_count": 61,
   "id": "6b229b06",
   "metadata": {},
   "outputs": [
    {
     "data": {
      "text/plain": [
       "'proportionally.Atlowprices,ontheotherhand,demandisinelastic;afurther\\ndeclineinpricehasrelativelylittleproportionaleffectonquantity.\\nThisresultcanbemosteasilyshownwithanumericalexample.Figure3.14\\nillustratesastraight-line(linear)demandcurvefor,say,portableCDplayers.In\\n\\nlookingatthechangingelasticityofdemandalongthiscurve,wewillassumeithas\\nthespecificalgebraicform\\nQ¼1002P(3:12)whereQisthequantityofCDplayersdemandedperweekand\\nPistheirpricein\\ndollars.Thedemonstrationwouldbethesameforanyotherlineardemandcurve\\nwemightchoose.Table3.3showsafewprice-quantitycombinationsthatlieonthe\\n\\ndemandcurve,andthesepointsarealsoreflectedinFigure3.14.Notice,inparti-\\ncular,thatthequantitydemandediszeroforpricesof$50orgreater.\\nTable3.3alsorecordstotalspendingonCDplayers(\\nPÆQ)representedbyeach\\nofthepointsonthedemandcurve.Forpricesof$50orabove,totalexpenditures\\n\\nare$0.Nomatterhowhightheprice,ifnothingisbought,expendituresare$0.As\\npricefallsbelow$50,totalspendingincreases.At\\nP¼$40,totalspendingis$800\\n($40Æ20),andfor\\nP¼$30,thefigurerisesto$1,200($30\\nÆ40).Forhighprices,thedemandcurveinFigure3.14iselastic;afallinprice\\ncausesenoughadditionalsalestoincreasetotalspending.Thisincreaseintotal\\n\\nexpendituresbeginstoslowaspricedropsstillfurther.Infact,totalspending\\nFIGURE3.14\\nElasticityVariesalongaLinearDemandCurve\\nPrice(dollars)105040302520Quantity of CDplayers per weekDemand2040506080100\\n0Astraight-linedemandcurveiselasticinitsupperportionandinelasticinitslowerportion.\\nThisrelationshipisillustratedbyconsideringhowtotalexpenditureschangefordifferent\\n\\npointsonthedemandcurve.\\nCHAPTER3\\nDemandCurves\\n125'"
      ]
     },
     "execution_count": 61,
     "metadata": {},
     "output_type": "execute_result"
    }
   ],
   "source": [
    "page159= read_pdf.getPage(158)\n",
    "page159.extractText()"
   ]
  },
  {
   "cell_type": "code",
   "execution_count": 62,
   "id": "54796dd4",
   "metadata": {},
   "outputs": [
    {
     "data": {
      "text/plain": [
       "'reachesamaximumatapriceof$25.When\\nP¼$25,Q¼50andtotalspending\\nonCDplayersare$1,250.Forpricesbelow$25,reductionsinpricecausetotal\\nexpenditurestofall.At\\nP¼$20,expendituresare$1,200($20\\nÆ60),whereasat\\nP¼$10,theyareonly$800($10\\nÆ80).Attheselowerprices,theincreasein\\nquantitydemandedbroughtaboutbyafurtherfallinpriceissimplynotlarge\\n\\nenoughtocompensateforthepricedeclineitself,andtotalspendingfalls.\\nMoregenerally,thepriceelasticityofdemandatanypoint(\\nP*,Q*)onalinear\\ndemandcurveisgivenby:\\neQ,P¼bPQ(3:13)wherebistheslopeofthedemandcurve(foraproof,seeProblem3.10).So,atthe\\npointP*¼40,Q*¼20inFigure3.14,wecancompute\\neQ,P¼ð\\n2Þð40=20Þ4.Asexpected,demandisveryelasticatsuchahighprice.Ontheother\\nhand,atthepoint\\nP*¼10,Q*¼80,thepriceelasticityisgivenby\\neQ,P¼(2)(10/80)0.5.Atthislowprice,thedemandcurveisinelastic.Interestingly,\\nthepriceelasticityofdemandonalinearcurveisprecisely\\n1(thatis,unitelastic)at\\nthemiddleprice(here,\\nP*¼25).Youshouldbeabletoshowthisforyourself.\\nAUnitElasticCurve\\nThereisaspecialcasewherethewarningaboutelasticityisunnecessary.Suppose,\\naswederivedinEquation3.10,thattheweeklydemandforhamburgersis:\\nQ¼1200P(3:14)TABLE3.3\\nPrice,Quantity,andTotalExpendituresofCDPlayers\\nfortheDemandFunction\\nPRICE(\\nP)QUANTITY(\\nQ)TOTALEXPENDITURES(\\nPQ)$500$0402080030401,20025501,25020601,200108080001000KEEPinMINDPriceElasticityMayVary\\nAnequationsimilartoEquation3.13appliestoanydemandcurve,notonlylinearones.Thismakes\\n\\nclearthat,inmostcases,priceelasticityisnotaconstantbutvariesinaspecificwayalongmostdemand\\n\\ncurves.Consequently,youmustbecarefultocomputetheelasticityatthepointthatinterestsyou.\\n\\nApplyingcalculationsfromoneportionofacurvetoanotheroftenwillnotwork.\\n126PARTTWO\\nDemand\\n'"
      ]
     },
     "execution_count": 62,
     "metadata": {},
     "output_type": "execute_result"
    }
   ],
   "source": [
    "page160= read_pdf.getPage(159)\n",
    "page160.extractText()"
   ]
  },
  {
   "cell_type": "code",
   "execution_count": 63,
   "id": "3be01f2d",
   "metadata": {},
   "outputs": [
    {
     "data": {
      "text/plain": [
       "'AsshowninFigure3.15,thisdemandcurvehasageneralhyperbolicshapeŠ\\nitisclearlynotastraightline.Noticethatinthiscase,\\nPÆQ¼1,200regardlessof\\ntheprice.Thiscanbeverifiedbyexamini\\nnganyofthepointsidentifiedinFigure\\n3.15.Becausetotalexpendituresareconstanteverywherealongthishyperbolic\\ndemandcurve,thepriceelasticityofdemandisalways\\n1.Therefore,thisisone\\nsimpleexampleofademandcurvethath\\nasthesamepriceelasticityalongits\\nentirelength.\\n8Unlikethelinearcase,forthiscurve,thereisnoneedtoworry\\naboutbeingspecificaboutthepointatwhichelasticityistobemeasured.\\nApplication3.7:AnExperimentinHeal\\nthInsuranceillustrateshowyoumight\\ncalculateelasticityfromactualdataa\\nndwhyyourresultscouldbeveryuseful\\nindeed.\\nFIGURE3.15\\nAUnitaryElasticDemandCurve\\nPrice(dollars)26543Quantity ofhamburgers per week200240300400\\n600Thishyperbolicdemandcurvehasapriceelasticityofdemandof\\n1alongitsentire\\nlength.Thisisshownbythefactthattotalspendingonhamburgersisthesame($1,200)\\neverywhereonthecurve.\\n8Moregenerally,ifdemandtakestheform\\nQ¼aPbðb<0Þfigthepriceelasticityofdemandisgivenby\\nb.Thiselasticityisthesameeverywherealongsuchademandcurve.\\nEquation3.3isaspecialcaseofequationiforwhich\\neQ,P¼b1and\\na¼1,200\\nfiigTakinglogarithmsofequationiyields\\nlnQ¼lnaþblnPfiiigwhichshowsthatthepriceelasticityofdemandcanbefoundbystudyingtherelationshipbetweenthelogarithms\\nofQandP.CHAPTER3\\nDemandCurves\\n127'"
      ]
     },
     "execution_count": 63,
     "metadata": {},
     "output_type": "execute_result"
    }
   ],
   "source": [
    "page161= read_pdf.getPage(160)\n",
    "page161.extractText()"
   ]
  },
  {
   "cell_type": "code",
   "execution_count": 64,
   "id": "91fdf4a8",
   "metadata": {},
   "outputs": [
    {
     "data": {
      "text/plain": [
       "'APPLICATION3.7\\nAnExperimentinHealthInsurance\\nTheprovisionofhealthinsuranceisoneofthemostuniversal\\nandexpensivesocialpoliciesthroughouttheworld.Although\\n\\nmanynationshavecomprehensiveinsuranceschemes\\nthatcovermostoftheirpopulations,policymakersinthe\\nUnitedStateshaveresistedsuchanall-inclusiveapproach.\\nInstead,U.S.policieshaveevolvedasapatchwork,stressing\\nemployer-providedinsuranceforworkerstogetherwithspe-\\n\\ncialprogramsfortheaged(Medicare)andthepoor(Medi-\\ncaid).Regardlessofhowhealthinsuranceplansaredesigned,\\nhowever,allfaceasimilarsetofproblems.\\nMoralHazard\\nOneofthemostimportantsuchproblemsisthatinsurance\\n\\ncoverageofhealthcareneedstendstoincreasethedemand\\nforservices.Becauseinsuredpatientspayonlyasmallfraction\\nofthecostsoftheservicestheyreceive,theywilldemand\\nmorethantheywouldhaveiftheyhadtopaymarketprices.\\nThistendencyofinsurancecoveragetoincreasedemandis\\n\\n(perhapsunfortunately)called‚‚moralhazard,™™thoughthereis\\nnothingespeciallyimmoralaboutsuchbehavior.\\nTheRandExperiment\\nTheMedicareprogramwasintroducedintheUnitedStatesin\\n1965,andtheincreaseindemandformedicalservicesbythe\\n\\nelderlywasimmediatelyapparent.Inordertounderstand\\nbetterthefactorsthatwereleadingtothisincreaseindemand,\\nthegovernmentfundedalarge-scaleexperimentinfourcities.\\nInthatexperiment,whichwasconductedbytheRandCorp-\\noration,peoplewereassignedtodifferentinsuranceplans\\n\\nthatvariedinthefractionofmedicalcoststhatpeoplewould\\nhavetopayoutoftheirownpocketsformedicalcare.\\n1Ininsuranceterms,theexperimentvariedthe‚‚coinsurance™™\\nratefromzero(freecare)tonearly100percent(patientspay\\n\\neverything).\\nResultsoftheExperiment\\nTable1showstheresultsfromtheexperiment.Peoplewho\\nfacedlowerout-of-pocketcostsformedicalcaretendedto\\ndemandmoreofit.Aroughestimateoftheelasticityof\\n\\ndemandcanbeobtainedbyaveragingthepercentage\\nchangesacrossthevariousplansinthetable.Thatis,\\neQ,P¼Percentagechangein\\nQPercentagechangein\\nP¼þ12660:18So,asmighthavebeenexpected,thedemandformed-\\nicalcareisinelastic,butitclearlyisnotzero.Infact,theRand\\nstudyfoundmuchlargerpriceeffectsforsomespecific\\nmedicalservicessuchasmentalhealthcareanddental\\ncare.Itisthesekindsofservicesforwhichnewinsurance\\n\\ncoveragewouldbeexpectedtohavethegreatestimpacton\\nmarketdemand.\\nTOTHINKABOUT1.ThedatainTable1showaveragespendingforfamilies\\nwhofaceddifferingout-of-pocketpricesformedical\\ncare.Whydothesedataaccuratelyreflectthechanges\\ninquantity\\n(ratherthanspending)thatarerequiredinthe\\nelasticityformula?\\n2.Inrecentyears,prepaidhealthplans(i.e.,HMOs)have\\n\\ncometobethedominantformofemployer-provided\\nhealthplans.Howdoprepaidplansseektocontrolthe\\nmoralhazardproblem?\\nTABLE1\\nResultsoftheRandHealthInsuranceExperiment\\nCOINSURANCERATE\\nPERCENTAGE\\nCHANGEINPRICE\\nAVERAGETOTAL\\nSPENDING\\nPERCENTAGE\\nCHANGEINQUANTITY\\n0.95$5400.5047%573þ6.1%0.2550617þ7.70.00100750þ21.6Average66þ12.0Source:\\nManningetal.,Table2.\\n1DetailsoftheexperimentarereportedinW.G.Manning,J.P.New-\\nhouse,E.B.Keeler,A.Liebowitz,andM.S.Marquis,‚‚HealthInsurance\\nandtheDemandforMedicalCare:EvidencefromaRandomized\\nExperiment,™™\\nAmericanEconomicReview\\n(June1987):251Œ277.\\n128PARTTWO\\nDemand\\n'"
      ]
     },
     "execution_count": 64,
     "metadata": {},
     "output_type": "execute_result"
    }
   ],
   "source": [
    "page162= read_pdf.getPage(161)\n",
    "page162.extractText()"
   ]
  },
  {
   "cell_type": "code",
   "execution_count": 65,
   "id": "54116b96",
   "metadata": {},
   "outputs": [
    {
     "data": {
      "text/plain": [
       "'INCOMEELASTICITYOFDEMAND\\nAnothertypeofelasticityisthe\\nincomeelasticityofdemand\\n(eQ,I).Thisconcept\\nrecordstherelationshipbetweenchangesinincomeandchangesinquantity\\ndemanded:Incomeelasticityofdemand\\n¼eQ,I¼Percentagechangein\\nQPercentagechangein\\nI(3:15)Foranormalgood,\\neQ,I\\nispositivebecauseincreasesinincomeleadtoincreasesin\\npurchasesofthegood.Amongnormalgoods,whether\\neQ,Iisgreaterthanorlessthan\\n1isamatterofsomeinterest.Goodsforwhich\\neQ,I>1mightbecalledluxurygoods,inthatpurchasesof\\n\\nthesegoodsincreasemorerapidlythanincome.For\\n\\nexample,iftheincomeelasticityofdemandforauto-\\nmobilesis2,thena10percentincreaseinincomewill\\nleadtoa20percentincreaseinautomobilepur-\\n\\nchases.Autosaleswouldthereforebeveryresponsive\\ntobusinesscyclesthatproducechangesinpeople™s\\nincomes.Ontheotherhand,Engel™sLawsuggests\\n\\nthatfoodhasanincomeelasticityofmuchlessthan1.\\nIftheincomeelasticityofdemandforfoodwere0.5,\\nforexample,thena10percentriseinincomewould\\n\\nresultinonlya5percentincreaseinfoodpurchases.\\nConsiderableresearchhasbeendonetodetermine\\ntheactualvaluesofincomeelasticitiesforvarious\\n\\nitems,andwediscusstheresultsofsomeofthese\\nstudiesinthefinalsectionofthischapter.\\nCROSS-PRICEELASTICITYOF\\nDEMAND\\nEarlier,weshowedthatachangeinthepriceofonegoodwillaffectthequantity\\ndemandedofmanyothergoods.Tomeasuresucheffects,economistsusethe\\ncross-priceelasticityofdemand\\n.Thisconceptrecordsthepercentagechangeinquantity\\ndemanded(\\nQ)thatresultsfroma1percentagepointchangeinthepriceofsome\\nothergood(callthisotherpriceP\\n0).Thatis,\\nCross-priceelasticityofdemand\\n¼eQ,P0¼Percentagechangein\\nQPercentagechangeinP\\n0(3:16)Ifthetwogoodsinquestionaresubstitutes,thecross-priceelasticityofdemandwill\\n\\nbepositivebecausethepriceofonegoodandthequantitydemandedoftheother\\n\\ngoodwillmoveinthesamedirection.Forexample,thecross-priceelasticityfor\\nchangesinthepriceofteaoncoffeedemandmightbe0.2.Each1percentagepoint\\nincreaseinthepriceoftearesultsina0.2percentagepointincreaseinthedemandfor\\nIncomeelasticityof\\ndemandThepercentagechangein\\nthequantitydemandedof\\nagoodinresponsetoa\\n1percentchangein\\n\\nincome.Cross-priceelasticity\\nofdemand\\nThepercentagechangein\\n\\nthequantitydemandedof\\nagoodinresponsetoa\\n1percentchangeinthe\\npriceofanothergood.\\nMicroQuiz3.8\\nPossiblevaluesfortheincomeelasticityof\\ndemandarerestrictedbythefactthatconsumers\\nareboundbybudgetconstraints.Usethisfactto\\nexplain:1.Whyisitthatnoteverygoodcanhavean\\nincomeelasticityofdemandgreaterthan1?\\nCaneverygoodhaveanincomeelasticity\\nofdemandlessthan1?\\n2.Ifasetofconsumersspend95percentof\\n\\ntheirincomesonhousing,whycan™tthe\\nincomeelasticityofdemandforhousingbe\\nmuchgreaterthan1?\\nCHAPTER3\\nDemandCurves\\n129'"
      ]
     },
     "execution_count": 65,
     "metadata": {},
     "output_type": "execute_result"
    }
   ],
   "source": [
    "page163= read_pdf.getPage(162)\n",
    "page163.extractText()"
   ]
  },
  {
   "cell_type": "code",
   "execution_count": 66,
   "id": "a144c3de",
   "metadata": {},
   "outputs": [
    {
     "data": {
      "text/plain": [
       "'coffeebecausecoffeeandteaaresubstitutesinpeo-\\nple™sconsumptionchoices.Afallinthepriceoftea\\nwouldcausethedemandforcoffeetofallalso,since\\npeoplewouldchoosetodrinktearatherthancoffee.\\nIftwogoodsinquestionarecomplements,the\\ncross-priceelasticitywillbenegative,showingthat\\n\\nthepriceofonegoodandthequantityoftheother\\n\\ngoodmoveinoppositedirections.Thecross-price\\nelasticityofdoughnutpricesoncoffeedemandmight\\nbe,say,\\n1.5.Thiswouldimplythateach1percent\\nincreaseinthepriceofdoughnutswouldcausethe\\ndemandforcoffeetofallby1.5percent.When\\ndoughnutsaremoreexpensive,itbecomesless\\n\\nattractivetodrinkcoffeebecausemanypeoplelike\\ntohaveadoughnutwiththeirmorningcoffee.Afall\\ninthepriceofdoughnutswouldincreasecoffee\\n\\ndemandbecause,inthatcase,peoplewillchooseto\\nconsumemoreofbothcomplementaryproducts.As\\nfortheotherelasticitieswehaveexamined,considerableempiricalresearchhasbeen\\nconductedtotrytomeasureactualcross-priceelasticitiesofdemand.\\nSOMEELASTICITYESTIMATES\\nTable3.4gathersanumberofestimatedincomeandpriceelasticitiesofdemand.\\n\\nAsweshallsee,theseestimatesoftenprovidethestartingplaceforanalyzing\\nhowactivitiessuchaschangesintaxesorimportpolicymightaffectvarious\\nmarkets.Inseverallaterchapters,weusethesenumberstoillustratesuch\\n\\napplications.Althoughinterestedreadersareurgedtoexploretheoriginalsourcesofthese\\nestimatestounderstandmoredetailsaboutthem,inourdiscussionwejusttake\\n\\nnoteofafewregularitiestheyexhibit.Withregardtothepriceelasticityfigures,\\nmostestimatessuggestthatproductdemandsarerelativelyinelastic(between0and\\n1).Forthegroupingsofcommoditieslisted,substitutioneffectsarenotespecially\\nlarge,althoughtheymaybelargewithinthesecategories.Forexample,substitu-\\ntionsbetweenbeerandothercommoditiesmayberelativelysmall,though\\nsubstitutionsamongbrandsofbeermaybesubstantialinresponsetopricediffer-\\n\\nences.Still,alltheestimatesarelessthan0,sothereisclearevidencethatpeopledo\\nrespondtopricechangesformostgoods.\\n9MicroQuiz3.9\\nSupposethatasetofconsumersspendtheir\\nincomesonlyonbeerandpizza.\\n1.Explainwhyafallinthepriceofbeerwill\\nhaveanambiguouseffectonpizzapur-\\n\\nchases.2.Whatcanyousayabouttherelationship\\n\\nbetweenthepriceelasticityofdemandfor\\npizza,theincomeelasticityofdemandfor\\npizza,andthecross-priceelasticityofthe\\ndemandforpizzawithrespecttobeer\\nprices?(Hint:Rememberthedemandfor\\n\\npizzamustbehomogeneous.)\\n9AlthoughtheestimatedpriceelasticitiesinTable3.4incorporatebothsubstitutionandincomeeffects,they\\npredominantlyrepresentsubstitutioneffects.Toseethis,notethatthepriceelasticityofdemand(\\neQ,P)canbe\\ndisaggregatedintosubstitutionandincomeeffectsby\\neQ,P¼eSsieiwhereeSisthe‚‚substitution™™priceelasticityofdemandrepresentingtheeffectofapricechangeholdingutility\\nconstant,siistheshareofincomespentonthegoodinquestion,and\\neiisthegood™sincomeelasticityofdemand.\\nBecausesiissmallformostofthegoodsinTable3.4,\\neQ,PandeShavevaluesthatarereasonablyclose.\\n130PARTTWO\\nDemand\\n'"
      ]
     },
     "execution_count": 66,
     "metadata": {},
     "output_type": "execute_result"
    }
   ],
   "source": [
    "page164= read_pdf.getPage(163)\n",
    "page164.extractText()"
   ]
  },
  {
   "cell_type": "code",
   "execution_count": 67,
   "id": "585298ad",
   "metadata": {},
   "outputs": [
    {
     "data": {
      "text/plain": [
       "'Asexpected,theincomeelasticitiesinTable3.4arepositiveandareroughly\\ncenteredabout1.0.Luxurygoods,suchasautomobilesortransatlantictravel\\n(eQ,I>1),tendtobebalancedbynecessities,suchasfoodormedicalcare\\n(eQ,I<1).Becausenoneoftheincomeelasticitiesisnegative,itisclearthatGiffen™s\\nparadoxmustbeveryrare.\\nTABLE3.4\\nRepresentativePriceandIncomeElasticitiesof\\nDemand\\nPRICEELASTICITY\\nINCOMEELASTICITYFood0.21þ0.28Medicalservices\\n0.18þ0.22HousingRental0.18þ1.00Owner-occupied1.20þ1.20Electricity1.14þ0.61Automobiles1.20þ3.00Beer0.26þ0.38Wine0.88þ0.97Marijuana1.500.00Cigarettes0.35þ0.50Abortions0.81þ0.79Transatlanticairtravel\\n1.30þ1.40Imports0.58þ2.73Money0.40þ1.00Source:\\nFood:H.WoldandL.Jureen,\\nDemandAnalysis\\n(NewYork:JohnWiley&Sons,Inc.,1953):203.Medical\\nServices:incomeelasticityfromR.AndersenandL.Benham,‚‚FactorsAffectingtheRelationshipbetweenFamily\\nIncomeandMedicalCareConsumption™™in\\nEmpiricalStudiesinHealthEconomics\\n,ed.(Baltimore:JohnsHopkins\\nPress,1970).PriceelasticityfromManningetal.,‚‚HealthInsuranceandtheDemandforMedicalCare:Evidence\\nfromaRandomizedExperiment,\\nAmericanEconomicReview\\n(June1987):251Œ277.Housing:incomeelasticities\\nfromF.deLeeuw,‚‚TheDemandforHousing,™™\\nReviewofEconomicsandStatistics\\n(February1971);priceelasticities\\nfromH.S.HouthakkerandL.D.Taylor,\\nConsumerDemandintheUnitedStates\\n(Cambridge,Mass.:Harvard\\nUniversityPress,1970),166Œ167.Electricity:R.F.Halvorsen,‚‚ResidentialDemandforElectricity,™™unpublished\\nPh.D.dissertation,HarvardUniversity,December1972.Automobiles:GregoryC.Chow,\\nDemandforAutomobiles\\nintheUnitedStates\\n(Amsterdam:NorthHollandPublishingCompany,1957).BeerandWine:J.A.Johnson,E.H.\\nOksanen,M.R.Veall,andD.Fritz,‚‚Short-RunandLong-RunElasticitiesforCanadianConsumptionofAlcoholic\\nBeverages,™™\\nReviewofEconomicsandStatistics\\n(February1992):64Œ74.Marijuana:T.C.MisketandF.Vakil,‚‚Some\\nEstimatesofPriceandExpenditureElasticitiesamongUCLAStudents,™™\\nReviewofEconomicsandStatistics\\n(November1972):474Œ475.Cigarettes:F.Chalemaker,‚‚RationalAddictiveBehaviorandCigaretteSmoking,™™\\nJournalofPoliticalEconomy\\n(August1991):722Œ742.Abortions:M.J.Medoff,‚‚AnEconomicAnalysisofthe\\nDemandforAbortions,™™\\nEconomicInquiry\\n(April1988):253Œ259.Transatlanticairtravel:J.M.Cigliano,‚‚Priceand\\nIncomeElasticitiesforAirlineTravel,™™\\nBusinessEconomics\\n(September1980):17Œ21.Imports:M.D.Chinn,‚‚Beware\\nofEconometriciansBearingEstimates,™™\\nJournalofPolicyAnalysisandManagement\\n(Fall1991):546Œ567.Money:\\n‚‚Long-RunIncomeandInterestElasticitiesofMoneyDemandintheUnitedStates,™™\\nReviewofEconomicsand\\nStatistics(November1991):665Œ674.Priceelasticityreferstointerestrateelasticity.\\nCHAPTER3\\nDemandCurves\\n131'"
      ]
     },
     "execution_count": 67,
     "metadata": {},
     "output_type": "execute_result"
    }
   ],
   "source": [
    "page165= read_pdf.getPage(164)\n",
    "page165.extractText()"
   ]
  },
  {
   "cell_type": "code",
   "execution_count": 68,
   "id": "f8dc16ec",
   "metadata": {},
   "outputs": [
    {
     "data": {
      "text/plain": [
       "'SUMMARY\\nInthischapter,weshowedhowtoconstructthemarket\\ndemandcurveforaproductŠabasicbuildingblockin\\n\\nthetheoryofpricedetermination.Becausemarket\\n\\ndemandiscomposedonthereactionsofmanyconsu-\\n\\nmers,webeganthisstudywithadescriptionofhow\\n\\nindividualsreacttopricechanges.Theresultinganaly-\\n\\nsisofsubstitutionandincomeeffectsisoneofthemost\\n\\nimportantdiscoveriesofeconomictheory.Thistheory\\n\\nprovidesafairlycompletedescriptionofwhyindivi-\\n\\ndualdemandcurvesslopedownward,andthisleads\\n\\ndirectlytothefamiliardownwardslopingmarket\\n\\ndemandcurve.Becausethisderivationisfairlylengthy\\n\\nandcomplicated,therearequiteafewthingstokeep\\n\\ninmind:\\nProportionatechangesinallpricesandincomedo\\n\\nnotaffectindividuals™economicchoicesbecause\\n\\nthesedonotshiftthebudgetconstraint.\\nAchangeinagood™spricewillcreatesubstitution\\n\\nandincomeeffects.Fornormalgoods,thesework\\n\\ninthesamedirectionŠafallinpricewillcause\\n\\nmoretobedemanded,andariseinapricewill\\n\\ncauselesstobedemanded.\\nAchangeinthepriceofonegoodwillusually\\n\\naffectthedemandforothergoodsaswell.That\\n\\nis,itwillshifttheothergood™sdemandcurve.If\\n\\nthetwogoodsarecomplements,ariseintheprice\\n\\nofonewillshifttheother™sdemandcurveinward.\\n\\nIfthegoodsaresubstitutes,ariseinthepriceof\\n\\nonewillshifttheother™sdemandcurveoutward.\\nConsumersurplusmeasurestheareabelowa\\n\\ndemandcurveandabovemarketprice.Thisarea\\nshowswhatpeoplewouldbewillingtopayforthe\\n\\nrighttoconsumeagoodatitscurrentmarket\\n\\nprice.Marketdemandcurvesarethehorizontalsumof\\n\\nallindividuals™demandcurves.Thiscurveslopes\\n\\ndownwardbecauseindividualdemandcurves\\n\\nslopedownward.Factorsthatshiftindividual\\n\\ndemandcurves(suchaschangesinincomeorin\\n\\nthepriceofanothergood)willalsoshiftmarket\\n\\ndemandcurves.\\nThepriceelasticityofdemandprovidesacon-\\n\\nvenientwayofmeasuringtheextenttowhich\\n\\nmarketdemandrespondstopricechangesŠit\\n\\nmeasuresthepercentagechangeinquantitydem-\\nanded(alongagivendemandcurve)inresponseto\\na1percentchangeinprice.\\nThereisacloserelationshipbetweentheprice\\n\\nelasticityofdemandandchangesintotalspending\\n\\nonagood.Ifdemandisinelastic(0>\\neQ,P>1),a\\nriseinpricewillincreasetotalspending,whereasa\\n\\nfallinpricewillreduceit.Alternatively,ifdemand\\n\\niselastic(\\neQ,P<1),ariseinpricewillreducetotal\\nspending,butafallinpricewillinfactincrease\\n\\ntotalspendingbecauseoftheextrasalesgener-\\n\\nated.Thepriceelasticityofdemandisnotnecessarily\\n\\nconstantalongademandcurve,sosomecaremust\\n\\nbetakenwhenpriceschangebysignificant\\n\\namounts.REVIEWQUESTIONS\\n1.Monicaalwaysbuysoneunitoffoodtogether\\n\\nwiththreeunitsofhousing,nomatterwhatthe\\n\\npricesofthesetwogoods.Iffoodandhousing\\n\\nstartwithequalprices,decidewhetherthefollow-\\n\\ningeventswouldmakeherbetterofforworseoff\\n\\norleaveherwelfareunchanged.\\na.Thepricesoffoodandhousingincreaseby50\\npercent,withMonica™sincomeunchanged.\\nb.Thepricesoffoodandhousingincreaseby50\\npercent,andMonica™sincomeincreasesby50\\n\\npercent.c.Thepriceoffoodincreasesby50percent,the\\npriceofhousingremainsunchanged,and\\n\\nMonica™sincomeincreasesby25percent.\\nd.Thepriceoffoodremainsunchanged,theprice\\nofhousingincreasesby50percent,andMon-\\n\\nica™sincomeincreasesby25percent.\\ne.Howmightyouranswerstopartcandpartd\\nchangeifMonicawerewillingtoalterhermixof\\n\\nfoodandhousinginresponsetopricechanges?\\n2.Whenthereareonlytwogoods,theassumptionof\\n\\nadiminishingMRSrequiresthatsubstitution\\n\\neffectshavepriceandquantitymoveinopposite\\n\\ndirectionsforanygood.Explainwhythisisso.Do\\n\\nyouthinktheresultholdswhentherearemore\\n\\nthantwogoods?\\n3.GeorgehasratherspecialpreferencesforDVD\\n\\nrentals.Ashisincomerises,hewillincreasehis\\n132PARTTWO\\nDemand\\n'"
      ]
     },
     "execution_count": 68,
     "metadata": {},
     "output_type": "execute_result"
    }
   ],
   "source": [
    "page166= read_pdf.getPage(165)\n",
    "page166.extractText()"
   ]
  },
  {
   "cell_type": "code",
   "execution_count": 69,
   "id": "357cd676",
   "metadata": {},
   "outputs": [
    {
     "data": {
      "text/plain": [
       "'rentalsuntilhereachesatotalofsevenperweek.\\nAfterheisregularlyrentingsevenDVDsperweek,\\n\\nhowever,furtherincreasesinhisincomedonot\\n\\ncausehimtorentanymoreDVDs.\\na.ProvideasimplesketchofGeorge™sindiffer-\\nencecurvemap.\\nb.ExplainhowGeorgewillrespondtoafallin\\nthepriceofDVDrentals.\\n4.Isthefollowingstatementtrueorfalse?Explain.\\n\\n‚‚EveryGiffengoodmustbeinferior,butnotevery\\n\\ninferiorgoodexhibitstheGiffenparadox.™™\\n5.Explainwhetherthefollowingeventswouldresult\\n\\ninamovealonganindividual™sdemandcurvefor\\n\\npopcornorinashiftofthecurve.Ifthecurve\\n\\nwouldshift,inwhatdirection?\\na.Anincreaseintheindividual™sincome\\nb.Adeclineinpopcornprices\\nc.Anincreaseinpricesforpretzels\\nd.Areductionintheamountofbutterincludedin\\naboxofpopcorn\\ne.Thepresenceoflongwaitinglinestobuypop-\\ncornf.Asalestaxonallpopcornpurchases\\n6.Intheconstructionofthemarketdemandcurve\\n\\nshowninFigure3.12,whyisahorizontalline\\n\\ndrawnattheprevailingprice,\\nPx?Whatdoesthis\\nassumeaboutthepricefacingeachperson?How\\narepeopleassumedtoreacttothisprice?\\n7.‚‚GainingextrarevenueiseasyforanyproducerŠ\\n\\nallithastodoisraisethepriceofitsproduct.™™Do\\nyouagree?Explainwhenthiswouldbetrueand\\n\\nwhenitwouldnotbetrue.\\n8.Supposethatthemarketdemandcurveforpastais\\n\\nastraightlineoftheform\\nQ¼30050PwhereQisthequantityofpastaboughtinthousandsof\\nboxesperweekand\\nPisthepriceperbox(in\\ndollars).a.Atwhatpricedoesthedemandforpastagoto\\n0?Developanumericalexampletoshowthat\\n\\nthedemandforpastaiselasticatthispoint.\\nb.Howmuchpastaisdemandedatapriceof$0?\\nDevelopanumericalexampletoshowthat\\n\\ndemandisinelasticatthispoint.\\nc.Howmuchpastaisdemandedatapriceof$3?\\nDevelopanumericalexamplethatsuggests\\n\\nthattotalspendingonpastaisaslargeaspos-\\n\\nsibleatthisprice.\\n9.J.Truebluealwaysspendsone-thirdofhisincome\\n\\nonAmericanflags.Whatistheincomeelasticityof\\n\\nhisdemandforsuchflags?Whatisthepriceelas-\\n\\nticityofhisdemandforflags?\\n10.Table3.4reportsanestimatedpriceelasticityof\\n\\ndemandforelectricityof\\n1.14.Explainwhatthis\\nmeanswithanumericalexample.Doesthisnum-\\n\\nberseemlarge?Doyouthinkthisisashort-or\\n\\nlong-termelasticityestimate?Howmightthisesti-\\n\\nmatebeimportantforownersofelectricutilitiesor\\n\\nforbodiesthatregulatethem?\\nPROBLEMS\\n3.1ElizabethM.Suburbsmakes$200aweekather\\nsummerjobandspendsherentireweeklyincomeon\\n\\nnewrunningshoesanddesignerjeans,becausetheseare\\n\\ntheonlytwoitemsthatprovideutilitytoher.Furthermore,\\n\\nElizabethinsiststhatforeverypairofjeansshebuys,she\\n\\nmustalsobuyapairofshoes(withouttheshoes,thenew\\n\\njeansareworthless).Therefor\\ne,shebuysthesamenumber\\nofpairsofshoesandjeansinanygivenweek.\\na.Ifjeanscost$20andshoescost$20,howmany\\nwillElizabethbuyofeach?\\nb.Supposethatthepriceofjeansrisesto$30a\\npair.Howmanyshoesandjeanswillshebuy?\\nc.Showyourresultsbygraphingthebudgetcon-\\nstraintsfrompartaandpartb.Alsodraw\\n\\nElizabeth™sindifferencecurves.\\nd.Towhateffect(incomeorsubstitution)doyou\\nattributethechangeinutilitylevelsbetween\\n\\npartaandpartb?\\ne.NowwelookatElizabeth™sdemandcurvefor\\njeans.First,calculatehowmanypairsofjeans\\n\\nshewillchoosetobuyifjeanspricesare$30,\\n\\n$20,$10,or$5.\\nf.Usetheinformationfrompartetograph\\nMs.Suburbs™sdemandcurveforjeans.\\ng.Supposethatherincomerisesto$300.Graph\\nherdemandcurveforjeansinthisnewsitua-\\n\\ntion.h.Supposethatthepriceofrunningshoesrisesto\\n$30perpair.Howwillthisaffectthedemand\\n\\ncurvesdrawninpartbandpartc?\\n3.2Currently,Paulaismaximizingutilitybypurchas-\\ning5TVdinners(\\nT)and4LeanCuisinemeals(\\nL)each\\nweek.a.GraphPaula™sinitialutility-maximizingchoice.\\nb.Supposethatthepriceof\\nTrisesby$1andthe\\npriceof\\nLfallsby$1.25.CanPaulastillafford\\nCHAPTER3\\nDemandCurves\\n133'"
      ]
     },
     "execution_count": 69,
     "metadata": {},
     "output_type": "execute_result"
    }
   ],
   "source": [
    "page167= read_pdf.getPage(166)\n",
    "page167.extractText()"
   ]
  },
  {
   "cell_type": "code",
   "execution_count": null,
   "id": "cf0e3a8e",
   "metadata": {},
   "outputs": [],
   "source": []
  }
 ],
 "metadata": {
  "kernelspec": {
   "display_name": "Python 3",
   "language": "python",
   "name": "python3"
  },
  "language_info": {
   "codemirror_mode": {
    "name": "ipython",
    "version": 3
   },
   "file_extension": ".py",
   "mimetype": "text/x-python",
   "name": "python",
   "nbconvert_exporter": "python",
   "pygments_lexer": "ipython3",
   "version": "3.8.8"
  }
 },
 "nbformat": 4,
 "nbformat_minor": 5
}
